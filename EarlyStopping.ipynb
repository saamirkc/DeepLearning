{
  "nbformat": 4,
  "nbformat_minor": 0,
  "metadata": {
    "colab": {
      "provenance": [],
      "authorship_tag": "ABX9TyNp6Q2XMXMQEqQBW3tsPfU2",
      "include_colab_link": true
    },
    "kernelspec": {
      "name": "python3",
      "display_name": "Python 3"
    },
    "language_info": {
      "name": "python"
    }
  },
  "cells": [
    {
      "cell_type": "markdown",
      "metadata": {
        "id": "view-in-github",
        "colab_type": "text"
      },
      "source": [
        "<a href=\"https://colab.research.google.com/github/saamirkc/DeepLearning/blob/main/EarlyStopping.ipynb\" target=\"_parent\"><img src=\"https://colab.research.google.com/assets/colab-badge.svg\" alt=\"Open In Colab\"/></a>"
      ]
    },
    {
      "cell_type": "code",
      "execution_count": 1,
      "metadata": {
        "id": "DdSTViVNQNlQ"
      },
      "outputs": [],
      "source": [
        "import tensorflow as tf\n",
        "import numpy as np\n",
        "import pandas as pd\n",
        "from pylab import rcParams\n",
        "import matplotlib.pyplot as plt\n",
        "import warnings\n",
        "from mlxtend.plotting import plot_decision_regions\n",
        "from matplotlib.colors import ListedColormap\n",
        "from tensorflow.keras.models import Sequential\n",
        "from tensorflow.keras.layers import Dropout\n",
        "from tensorflow.keras.layers import Dense\n",
        "from tensorflow.keras.callbacks import EarlyStopping\n",
        "from sklearn.model_selection import train_test_split\n",
        "from sklearn.datasets import make_circles\n",
        "import seaborn as sns"
      ]
    },
    {
      "cell_type": "code",
      "source": [
        "X, y = make_circles(n_samples=100, noise=0.1, random_state=1)"
      ],
      "metadata": {
        "id": "avgyqIpWQQXf"
      },
      "execution_count": 2,
      "outputs": []
    },
    {
      "cell_type": "code",
      "source": [
        "X\n"
      ],
      "metadata": {
        "colab": {
          "base_uri": "https://localhost:8080/"
        },
        "id": "cFeqNjTFQsw_",
        "outputId": "d7578943-f6a3-44ae-990c-ef32f2b8f5a5"
      },
      "execution_count": 3,
      "outputs": [
        {
          "output_type": "execute_result",
          "data": {
            "text/plain": [
              "array([[-0.63640493, -0.36870191],\n",
              "       [-0.24465976, -0.73659196],\n",
              "       [-0.46597138, -1.06687743],\n",
              "       [-0.70999784, -0.40841948],\n",
              "       [ 0.70232238, -0.51730147],\n",
              "       [-0.49776571,  0.76955129],\n",
              "       [-0.31914906, -0.84899624],\n",
              "       [-0.57839322, -0.49081236],\n",
              "       [-0.53350227,  0.58056527],\n",
              "       [-0.24733259,  0.73011595],\n",
              "       [ 0.41030774, -0.73075986],\n",
              "       [ 0.17181003, -0.92504802],\n",
              "       [ 0.65917045,  0.62120588],\n",
              "       [ 0.87625577,  0.12510879],\n",
              "       [ 0.81946243, -0.01347859],\n",
              "       [-0.47960986, -0.7880243 ],\n",
              "       [-0.90187751, -0.70895455],\n",
              "       [ 0.74827659, -0.55976747],\n",
              "       [-0.74875324, -0.37153443],\n",
              "       [ 0.23161178,  1.01205842],\n",
              "       [ 0.81387506,  0.22821311],\n",
              "       [-0.92169575,  0.20310719],\n",
              "       [ 0.74650434, -0.35861224],\n",
              "       [ 0.01330079,  0.68169193],\n",
              "       [-0.72651409,  0.58630948],\n",
              "       [-0.33930852, -1.0080984 ],\n",
              "       [ 0.49009938, -0.62509577],\n",
              "       [-0.9539309 , -0.33410313],\n",
              "       [ 0.6927241 , -0.59576417],\n",
              "       [ 0.003546  , -0.9098264 ],\n",
              "       [-0.35077763,  0.82536558],\n",
              "       [ 0.94798269, -0.14503976],\n",
              "       [ 0.52327611,  0.20621942],\n",
              "       [ 0.54670705, -0.51026584],\n",
              "       [ 0.10385825, -0.66844291],\n",
              "       [ 0.31843503, -0.97937344],\n",
              "       [ 0.92901189, -0.31993308],\n",
              "       [ 0.20498887,  0.64009007],\n",
              "       [-1.01797423,  0.23454524],\n",
              "       [-0.51324637, -0.80013947],\n",
              "       [-0.12292134, -0.74493827],\n",
              "       [ 0.71008749,  0.30557432],\n",
              "       [-0.71742651, -0.13028889],\n",
              "       [-0.13663998,  0.7088594 ],\n",
              "       [-0.57877973, -0.67082245],\n",
              "       [ 0.41812614, -0.82061786],\n",
              "       [ 0.84575703, -0.63891465],\n",
              "       [ 0.26707772, -0.74994685],\n",
              "       [-0.87474347, -0.09886802],\n",
              "       [ 0.62430557, -0.0931694 ],\n",
              "       [ 0.65495356, -0.59471995],\n",
              "       [ 0.57445296,  0.52172511],\n",
              "       [-1.0617065 ,  0.30319732],\n",
              "       [ 0.96779554,  0.56332827],\n",
              "       [ 0.49980305,  0.65833135],\n",
              "       [ 0.9717675 , -0.08311653],\n",
              "       [-0.74061828,  0.46063137],\n",
              "       [ 0.08203902, -0.95784326],\n",
              "       [ 0.9202249 ,  0.33757265],\n",
              "       [-0.77079544,  0.05031276],\n",
              "       [-0.8114891 , -0.61756242],\n",
              "       [-0.3501353 ,  0.75032484],\n",
              "       [-0.74376426,  0.46339773],\n",
              "       [ 0.63771423, -0.84351537],\n",
              "       [ 0.75136154, -0.34005691],\n",
              "       [ 0.22716539, -0.81418053],\n",
              "       [ 0.52855241,  0.89270399],\n",
              "       [ 0.33982534,  0.57613098],\n",
              "       [ 1.02669518, -0.01098796],\n",
              "       [ 0.17659668, -0.83997859],\n",
              "       [ 0.47171265,  0.6689426 ],\n",
              "       [-0.9112213 ,  0.50131608],\n",
              "       [ 0.18668802,  0.6580003 ],\n",
              "       [-0.06259331,  0.7430852 ],\n",
              "       [ 0.74218942,  0.79243568],\n",
              "       [ 0.63184965, -0.30467967],\n",
              "       [-0.10163336,  0.86144353],\n",
              "       [-0.37799331,  0.51586893],\n",
              "       [-0.29317877, -0.73949777],\n",
              "       [-0.21099388,  0.81161572],\n",
              "       [-1.00407781, -0.55070155],\n",
              "       [-0.92695735, -0.41057272],\n",
              "       [ 0.20497791,  0.87640661],\n",
              "       [-0.66598082,  0.65032736],\n",
              "       [-0.92263395,  0.68059245],\n",
              "       [ 0.80940293,  0.15076116],\n",
              "       [-0.8871477 ,  0.01276883],\n",
              "       [ 0.72182595,  0.62661863],\n",
              "       [-0.65134504,  0.49909484],\n",
              "       [-0.71940931, -0.00172619],\n",
              "       [ 1.06096133,  0.0840763 ],\n",
              "       [-0.40443454,  0.84799759],\n",
              "       [-0.14018543,  0.64948924],\n",
              "       [-0.70669469, -0.29357585],\n",
              "       [ 0.83342493,  0.61278707],\n",
              "       [-0.78743102, -0.11249056],\n",
              "       [ 0.27602586,  0.88730559],\n",
              "       [-0.83505936,  0.02075632],\n",
              "       [ 0.26859755,  1.00452129],\n",
              "       [-0.22422412, -0.90416928]])"
            ]
          },
          "metadata": {},
          "execution_count": 3
        }
      ]
    },
    {
      "cell_type": "code",
      "source": [
        "sns.scatterplot(x=X[:, 0], y=X[:, 1], hue=y)"
      ],
      "metadata": {
        "colab": {
          "base_uri": "https://localhost:8080/",
          "height": 447
        },
        "id": "2hTidisVVgtf",
        "outputId": "ad9610b8-54ea-467a-b680-d43b02e67222"
      },
      "execution_count": 6,
      "outputs": [
        {
          "output_type": "execute_result",
          "data": {
            "text/plain": [
              "<Axes: >"
            ]
          },
          "metadata": {},
          "execution_count": 6
        },
        {
          "output_type": "display_data",
          "data": {
            "text/plain": [
              "<Figure size 640x480 with 1 Axes>"
            ],
            "image/png": "[encoded data removed]"
          },
          "metadata": {}
        }
      ]
    },
    {
      "cell_type": "code",
      "source": [
        "X_train ,X_test,y_train,y_test = train_test_split(X,y,test_size=0.2,random_state=1)"
      ],
      "metadata": {
        "id": "60mQnzj-VkeM"
      },
      "execution_count": 7,
      "outputs": []
    },
    {
      "cell_type": "code",
      "source": [
        "model = Sequential()\n",
        "\n",
        "model.add(Dense(256, input_dim=2, activation='relu'))\n",
        "model.add(Dense(1, activation='sigmoid'))"
      ],
      "metadata": {
        "id": "8ZC5hfuZWKBQ"
      },
      "execution_count": 8,
      "outputs": []
    },
    {
      "cell_type": "code",
      "source": [
        "model.compile(loss='binary_crossentropy', optimizer='adam', metrics=['accuracy'])"
      ],
      "metadata": {
        "id": "eYY8K6P_aScg"
      },
      "execution_count": 9,
      "outputs": []
    },
    {
      "cell_type": "code",
      "source": [
        "callback = EarlyStopping(\n",
        "    monitor=\"val_loss\",\n",
        "    min_delta=0.00001,\n",
        "    patience=20,\n",
        "    verbose=1,\n",
        "    mode=\"auto\",\n",
        "    baseline=None,\n",
        "    restore_best_weights=False\n",
        ")"
      ],
      "metadata": {
        "id": "RT6BBvU8aovN"
      },
      "execution_count": 11,
      "outputs": []
    },
    {
      "cell_type": "markdown",
      "source": [
        "here if call back function is not used then it takes very much longer time to iterate over 3500 epochs."
      ],
      "metadata": {
        "id": "ngd9WaPpbRXQ"
      }
    },
    {
      "cell_type": "code",
      "source": [
        "history = model.fit(X_train, y_train, validation_data=(X_test, y_test), epochs=3500, callbacks=callback)"
      ],
      "metadata": {
        "colab": {
          "base_uri": "https://localhost:8080/"
        },
        "id": "uYNDWoTKbKSX",
        "outputId": "69d2128b-8164-4071-da64-9a9ba49c4284"
      },
      "execution_count": 12,
      "outputs": [
        {
          "output_type": "stream",
          "name": "stdout",
          "text": [
            "Epoch 1/3500\n",
            "3/3 [==============================] - 0s 46ms/step - loss: 0.2047 - accuracy: 0.9250 - val_loss: 0.4512 - val_accuracy: 0.8500\n",
            "Epoch 2/3500\n",
            "3/3 [==============================] - 0s 55ms/step - loss: 0.2051 - accuracy: 0.9375 - val_loss: 0.4549 - val_accuracy: 0.8500\n",
            "Epoch 3/3500\n",
            "3/3 [==============================] - 0s 46ms/step - loss: 0.2049 - accuracy: 0.9375 - val_loss: 0.4534 - val_accuracy: 0.8500\n",
            "Epoch 4/3500\n",
            "3/3 [==============================] - 0s 56ms/step - loss: 0.2059 - accuracy: 0.9250 - val_loss: 0.4536 - val_accuracy: 0.8500\n",
            "Epoch 5/3500\n",
            "3/3 [==============================] - 0s 56ms/step - loss: 0.2053 - accuracy: 0.9250 - val_loss: 0.4576 - val_accuracy: 0.8500\n",
            "Epoch 6/3500\n",
            "3/3 [==============================] - 0s 58ms/step - loss: 0.2053 - accuracy: 0.9250 - val_loss: 0.4647 - val_accuracy: 0.8500\n",
            "Epoch 7/3500\n",
            "3/3 [==============================] - 0s 42ms/step - loss: 0.2050 - accuracy: 0.9125 - val_loss: 0.4679 - val_accuracy: 0.8500\n",
            "Epoch 8/3500\n",
            "3/3 [==============================] - 0s 58ms/step - loss: 0.2044 - accuracy: 0.9250 - val_loss: 0.4645 - val_accuracy: 0.8500\n",
            "Epoch 9/3500\n",
            "3/3 [==============================] - 0s 60ms/step - loss: 0.2065 - accuracy: 0.9375 - val_loss: 0.4564 - val_accuracy: 0.8500\n",
            "Epoch 10/3500\n",
            "3/3 [==============================] - 0s 57ms/step - loss: 0.2067 - accuracy: 0.9125 - val_loss: 0.4464 - val_accuracy: 0.8500\n",
            "Epoch 11/3500\n",
            "3/3 [==============================] - 0s 62ms/step - loss: 0.2066 - accuracy: 0.9125 - val_loss: 0.4440 - val_accuracy: 0.8500\n",
            "Epoch 12/3500\n",
            "3/3 [==============================] - 0s 41ms/step - loss: 0.2058 - accuracy: 0.9125 - val_loss: 0.4488 - val_accuracy: 0.8500\n",
            "Epoch 13/3500\n",
            "3/3 [==============================] - 0s 50ms/step - loss: 0.2073 - accuracy: 0.9250 - val_loss: 0.4579 - val_accuracy: 0.8500\n",
            "Epoch 14/3500\n",
            "3/3 [==============================] - 0s 49ms/step - loss: 0.2054 - accuracy: 0.9375 - val_loss: 0.4571 - val_accuracy: 0.8500\n",
            "Epoch 15/3500\n",
            "3/3 [==============================] - 0s 54ms/step - loss: 0.2051 - accuracy: 0.9375 - val_loss: 0.4591 - val_accuracy: 0.8500\n",
            "Epoch 16/3500\n",
            "3/3 [==============================] - 0s 38ms/step - loss: 0.2051 - accuracy: 0.9375 - val_loss: 0.4499 - val_accuracy: 0.8500\n",
            "Epoch 17/3500\n",
            "3/3 [==============================] - 0s 37ms/step - loss: 0.2048 - accuracy: 0.9375 - val_loss: 0.4476 - val_accuracy: 0.8500\n",
            "Epoch 18/3500\n",
            "3/3 [==============================] - 0s 35ms/step - loss: 0.2053 - accuracy: 0.9125 - val_loss: 0.4410 - val_accuracy: 0.8500\n",
            "Epoch 19/3500\n",
            "3/3 [==============================] - 0s 28ms/step - loss: 0.2051 - accuracy: 0.9125 - val_loss: 0.4423 - val_accuracy: 0.8500\n",
            "Epoch 20/3500\n",
            "3/3 [==============================] - 0s 16ms/step - loss: 0.2064 - accuracy: 0.9125 - val_loss: 0.4528 - val_accuracy: 0.8500\n",
            "Epoch 21/3500\n",
            "3/3 [==============================] - 0s 16ms/step - loss: 0.2044 - accuracy: 0.9125 - val_loss: 0.4574 - val_accuracy: 0.8500\n",
            "Epoch 22/3500\n",
            "3/3 [==============================] - 0s 18ms/step - loss: 0.2052 - accuracy: 0.9125 - val_loss: 0.4627 - val_accuracy: 0.8500\n",
            "Epoch 23/3500\n",
            "3/3 [==============================] - 0s 16ms/step - loss: 0.2056 - accuracy: 0.9250 - val_loss: 0.4594 - val_accuracy: 0.8500\n",
            "Epoch 24/3500\n",
            "3/3 [==============================] - 0s 18ms/step - loss: 0.2043 - accuracy: 0.9250 - val_loss: 0.4624 - val_accuracy: 0.8500\n",
            "Epoch 25/3500\n",
            "3/3 [==============================] - 0s 17ms/step - loss: 0.2053 - accuracy: 0.9375 - val_loss: 0.4629 - val_accuracy: 0.8500\n",
            "Epoch 26/3500\n",
            "3/3 [==============================] - 0s 17ms/step - loss: 0.2054 - accuracy: 0.9375 - val_loss: 0.4578 - val_accuracy: 0.8500\n",
            "Epoch 27/3500\n",
            "3/3 [==============================] - 0s 17ms/step - loss: 0.2050 - accuracy: 0.9375 - val_loss: 0.4569 - val_accuracy: 0.8500\n",
            "Epoch 28/3500\n",
            "3/3 [==============================] - 0s 25ms/step - loss: 0.2049 - accuracy: 0.9375 - val_loss: 0.4539 - val_accuracy: 0.8500\n",
            "Epoch 29/3500\n",
            "3/3 [==============================] - 0s 16ms/step - loss: 0.2037 - accuracy: 0.9375 - val_loss: 0.4582 - val_accuracy: 0.8500\n",
            "Epoch 30/3500\n",
            "3/3 [==============================] - 0s 17ms/step - loss: 0.2040 - accuracy: 0.9375 - val_loss: 0.4604 - val_accuracy: 0.8500\n",
            "Epoch 31/3500\n",
            "3/3 [==============================] - 0s 17ms/step - loss: 0.2055 - accuracy: 0.9250 - val_loss: 0.4615 - val_accuracy: 0.8500\n",
            "Epoch 32/3500\n",
            "3/3 [==============================] - 0s 18ms/step - loss: 0.2055 - accuracy: 0.9125 - val_loss: 0.4622 - val_accuracy: 0.8500\n",
            "Epoch 33/3500\n",
            "3/3 [==============================] - 0s 17ms/step - loss: 0.2050 - accuracy: 0.9250 - val_loss: 0.4533 - val_accuracy: 0.8500\n",
            "Epoch 34/3500\n",
            "3/3 [==============================] - 0s 20ms/step - loss: 0.2047 - accuracy: 0.9250 - val_loss: 0.4516 - val_accuracy: 0.8500\n",
            "Epoch 35/3500\n",
            "3/3 [==============================] - 0s 21ms/step - loss: 0.2047 - accuracy: 0.9000 - val_loss: 0.4503 - val_accuracy: 0.8500\n",
            "Epoch 36/3500\n",
            "3/3 [==============================] - 0s 30ms/step - loss: 0.2051 - accuracy: 0.9000 - val_loss: 0.4437 - val_accuracy: 0.8500\n",
            "Epoch 37/3500\n",
            "3/3 [==============================] - 0s 29ms/step - loss: 0.2054 - accuracy: 0.9125 - val_loss: 0.4402 - val_accuracy: 0.8500\n",
            "Epoch 38/3500\n",
            "3/3 [==============================] - 0s 29ms/step - loss: 0.2051 - accuracy: 0.9125 - val_loss: 0.4440 - val_accuracy: 0.8500\n",
            "Epoch 39/3500\n",
            "3/3 [==============================] - 0s 26ms/step - loss: 0.2053 - accuracy: 0.9125 - val_loss: 0.4521 - val_accuracy: 0.8500\n",
            "Epoch 40/3500\n",
            "3/3 [==============================] - 0s 17ms/step - loss: 0.2062 - accuracy: 0.9250 - val_loss: 0.4523 - val_accuracy: 0.8500\n",
            "Epoch 41/3500\n",
            "3/3 [==============================] - 0s 17ms/step - loss: 0.2047 - accuracy: 0.9375 - val_loss: 0.4474 - val_accuracy: 0.8500\n",
            "Epoch 42/3500\n",
            "3/3 [==============================] - 0s 17ms/step - loss: 0.2057 - accuracy: 0.9375 - val_loss: 0.4485 - val_accuracy: 0.8500\n",
            "Epoch 43/3500\n",
            "3/3 [==============================] - 0s 16ms/step - loss: 0.2050 - accuracy: 0.9250 - val_loss: 0.4440 - val_accuracy: 0.8500\n",
            "Epoch 44/3500\n",
            "3/3 [==============================] - 0s 17ms/step - loss: 0.2044 - accuracy: 0.9375 - val_loss: 0.4485 - val_accuracy: 0.8500\n",
            "Epoch 45/3500\n",
            "3/3 [==============================] - 0s 16ms/step - loss: 0.2045 - accuracy: 0.9375 - val_loss: 0.4569 - val_accuracy: 0.8500\n",
            "Epoch 46/3500\n",
            "3/3 [==============================] - 0s 16ms/step - loss: 0.2045 - accuracy: 0.9375 - val_loss: 0.4623 - val_accuracy: 0.8500\n",
            "Epoch 47/3500\n",
            "3/3 [==============================] - 0s 17ms/step - loss: 0.2046 - accuracy: 0.9375 - val_loss: 0.4674 - val_accuracy: 0.8500\n",
            "Epoch 48/3500\n",
            "3/3 [==============================] - 0s 17ms/step - loss: 0.2048 - accuracy: 0.9250 - val_loss: 0.4774 - val_accuracy: 0.8500\n",
            "Epoch 49/3500\n",
            "3/3 [==============================] - 0s 16ms/step - loss: 0.2053 - accuracy: 0.9125 - val_loss: 0.4801 - val_accuracy: 0.8500\n",
            "Epoch 50/3500\n",
            "3/3 [==============================] - 0s 17ms/step - loss: 0.2066 - accuracy: 0.9125 - val_loss: 0.4835 - val_accuracy: 0.8500\n",
            "Epoch 51/3500\n",
            "3/3 [==============================] - 0s 17ms/step - loss: 0.2047 - accuracy: 0.9125 - val_loss: 0.4775 - val_accuracy: 0.8500\n",
            "Epoch 52/3500\n",
            "3/3 [==============================] - 0s 18ms/step - loss: 0.2052 - accuracy: 0.9250 - val_loss: 0.4723 - val_accuracy: 0.8500\n",
            "Epoch 53/3500\n",
            "3/3 [==============================] - 0s 19ms/step - loss: 0.2050 - accuracy: 0.9375 - val_loss: 0.4674 - val_accuracy: 0.8500\n",
            "Epoch 54/3500\n",
            "3/3 [==============================] - 0s 31ms/step - loss: 0.2048 - accuracy: 0.9375 - val_loss: 0.4662 - val_accuracy: 0.8500\n",
            "Epoch 55/3500\n",
            "3/3 [==============================] - 0s 29ms/step - loss: 0.2048 - accuracy: 0.9375 - val_loss: 0.4755 - val_accuracy: 0.8500\n",
            "Epoch 56/3500\n",
            "3/3 [==============================] - 0s 30ms/step - loss: 0.2046 - accuracy: 0.9250 - val_loss: 0.4753 - val_accuracy: 0.8500\n",
            "Epoch 57/3500\n",
            "3/3 [==============================] - 0s 20ms/step - loss: 0.2049 - accuracy: 0.9125 - val_loss: 0.4714 - val_accuracy: 0.8500\n",
            "Epoch 57: early stopping\n"
          ]
        }
      ]
    },
    {
      "cell_type": "code",
      "source": [
        "plt.plot(history.history['loss'], label='train')\n",
        "plt.plot(history.history['val_loss'], label='test')\n",
        "plt.legend()\n",
        "plt.show()"
      ],
      "metadata": {
        "colab": {
          "base_uri": "https://localhost:8080/",
          "height": 430
        },
        "id": "WwrOG6tNbO1t",
        "outputId": "9759c7a9-1627-4bc6-a59f-91c3749f582f"
      },
      "execution_count": 13,
      "outputs": [
        {
          "output_type": "display_data",
          "data": {
            "text/plain": [
              "<Figure size 640x480 with 1 Axes>"
            ],
            "image/png": "[encoded data removed]"
          },
          "metadata": {}
        }
      ]
    },
    {
      "cell_type": "code",
      "source": [],
      "metadata": {
        "id": "pbX2GxdLblWS"
      },
      "execution_count": null,
      "outputs": []
    }
  ]
}